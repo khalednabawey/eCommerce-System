{
  "nbformat": 4,
  "nbformat_minor": 0,
  "metadata": {
    "colab": {
      "provenance": []
    },
    "kernelspec": {
      "name": "python3",
      "display_name": "Python 3"
    },
    "language_info": {
      "name": "python"
    }
  },
  "cells": [
    {
      "cell_type": "code",
      "execution_count": 1,
      "metadata": {
        "colab": {
          "base_uri": "https://localhost:8080/"
        },
        "id": "sRIqRo3lZM-l",
        "outputId": "8e12ba4b-9183-4dac-e0bc-b918aa5481cb"
      },
      "outputs": [
        {
          "output_type": "stream",
          "name": "stdout",
          "text": [
            "Requirement already satisfied: transformers in /usr/local/lib/python3.10/dist-packages (4.44.2)\n",
            "Requirement already satisfied: torch in /usr/local/lib/python3.10/dist-packages (2.4.1+cu121)\n",
            "Requirement already satisfied: pandas in /usr/local/lib/python3.10/dist-packages (2.2.2)\n",
            "Requirement already satisfied: numpy in /usr/local/lib/python3.10/dist-packages (1.26.4)\n",
            "Requirement already satisfied: scikit-learn in /usr/local/lib/python3.10/dist-packages (1.5.2)\n",
            "Requirement already satisfied: filelock in /usr/local/lib/python3.10/dist-packages (from transformers) (3.16.1)\n",
            "Requirement already satisfied: huggingface-hub<1.0,>=0.23.2 in /usr/local/lib/python3.10/dist-packages (from transformers) (0.24.7)\n",
            "Requirement already satisfied: packaging>=20.0 in /usr/local/lib/python3.10/dist-packages (from transformers) (24.1)\n",
            "Requirement already satisfied: pyyaml>=5.1 in /usr/local/lib/python3.10/dist-packages (from transformers) (6.0.2)\n",
            "Requirement already satisfied: regex!=2019.12.17 in /usr/local/lib/python3.10/dist-packages (from transformers) (2024.9.11)\n",
            "Requirement already satisfied: requests in /usr/local/lib/python3.10/dist-packages (from transformers) (2.32.3)\n",
            "Requirement already satisfied: safetensors>=0.4.1 in /usr/local/lib/python3.10/dist-packages (from transformers) (0.4.5)\n",
            "Requirement already satisfied: tokenizers<0.20,>=0.19 in /usr/local/lib/python3.10/dist-packages (from transformers) (0.19.1)\n",
            "Requirement already satisfied: tqdm>=4.27 in /usr/local/lib/python3.10/dist-packages (from transformers) (4.66.5)\n",
            "Requirement already satisfied: typing-extensions>=4.8.0 in /usr/local/lib/python3.10/dist-packages (from torch) (4.12.2)\n",
            "Requirement already satisfied: sympy in /usr/local/lib/python3.10/dist-packages (from torch) (1.13.3)\n",
            "Requirement already satisfied: networkx in /usr/local/lib/python3.10/dist-packages (from torch) (3.4)\n",
            "Requirement already satisfied: jinja2 in /usr/local/lib/python3.10/dist-packages (from torch) (3.1.4)\n",
            "Requirement already satisfied: fsspec in /usr/local/lib/python3.10/dist-packages (from torch) (2024.6.1)\n",
            "Requirement already satisfied: python-dateutil>=2.8.2 in /usr/local/lib/python3.10/dist-packages (from pandas) (2.8.2)\n",
            "Requirement already satisfied: pytz>=2020.1 in /usr/local/lib/python3.10/dist-packages (from pandas) (2024.2)\n",
            "Requirement already satisfied: tzdata>=2022.7 in /usr/local/lib/python3.10/dist-packages (from pandas) (2024.2)\n",
            "Requirement already satisfied: scipy>=1.6.0 in /usr/local/lib/python3.10/dist-packages (from scikit-learn) (1.13.1)\n",
            "Requirement already satisfied: joblib>=1.2.0 in /usr/local/lib/python3.10/dist-packages (from scikit-learn) (1.4.2)\n",
            "Requirement already satisfied: threadpoolctl>=3.1.0 in /usr/local/lib/python3.10/dist-packages (from scikit-learn) (3.5.0)\n",
            "Requirement already satisfied: six>=1.5 in /usr/local/lib/python3.10/dist-packages (from python-dateutil>=2.8.2->pandas) (1.16.0)\n",
            "Requirement already satisfied: MarkupSafe>=2.0 in /usr/local/lib/python3.10/dist-packages (from jinja2->torch) (3.0.1)\n",
            "Requirement already satisfied: charset-normalizer<4,>=2 in /usr/local/lib/python3.10/dist-packages (from requests->transformers) (3.4.0)\n",
            "Requirement already satisfied: idna<4,>=2.5 in /usr/local/lib/python3.10/dist-packages (from requests->transformers) (3.10)\n",
            "Requirement already satisfied: urllib3<3,>=1.21.1 in /usr/local/lib/python3.10/dist-packages (from requests->transformers) (2.2.3)\n",
            "Requirement already satisfied: certifi>=2017.4.17 in /usr/local/lib/python3.10/dist-packages (from requests->transformers) (2024.8.30)\n",
            "Requirement already satisfied: mpmath<1.4,>=1.1.0 in /usr/local/lib/python3.10/dist-packages (from sympy->torch) (1.3.0)\n"
          ]
        }
      ],
      "source": [
        "#Install Required Libraries\n",
        "!pip install transformers torch pandas numpy scikit-learn\n"
      ]
    },
    {
      "cell_type": "code",
      "source": [
        "# Import Libraries\n",
        "import pandas as pd\n",
        "import numpy as np\n",
        "import torch\n",
        "import torch.nn as nn\n",
        "from torch.utils.data import Dataset, DataLoader\n",
        "from transformers import GPT2Model, GPT2Config\n",
        "from sklearn.preprocessing import StandardScaler, LabelEncoder\n",
        "from sklearn.model_selection import train_test_split\n",
        "import datetime\n",
        "import warnings\n",
        "warnings.filterwarnings('ignore')\n",
        "from IPython.display import clear_output\n",
        "import matplotlib.pyplot as plt\n",
        "import seaborn as sns\n"
      ],
      "metadata": {
        "id": "5JjGTk_tgzL4"
      },
      "execution_count": 2,
      "outputs": []
    },
    {
      "cell_type": "code",
      "source": [
        "# Dataset Class Definition\n",
        "class PricingDataset(Dataset):\n",
        "    def __init__(self, features, targets):\n",
        "        self.features = torch.FloatTensor(features)\n",
        "        self.targets = torch.FloatTensor(targets).reshape(-1, 1)\n",
        "\n",
        "    def __len__(self):\n",
        "        return len(self.features)\n",
        "\n",
        "    def __getitem__(self, idx):\n",
        "        return self.features[idx], self.targets[idx]\n"
      ],
      "metadata": {
        "id": "6by55YLdg3KA"
      },
      "execution_count": 3,
      "outputs": []
    },
    {
      "cell_type": "code",
      "source": [
        "# Model Architecture\n",
        "class GenAIPricingTransformer(nn.Module):\n",
        "    def __init__(self, input_dim, n_heads=8, n_layers=6, dropout=0.1):\n",
        "        super().__init__()\n",
        "\n",
        "        self.config = GPT2Config(\n",
        "            vocab_size=1,\n",
        "            n_positions=input_dim,\n",
        "            n_ctx=input_dim,\n",
        "            n_embd=256,\n",
        "            n_layer=n_layers,\n",
        "            n_head=n_heads,\n",
        "            n_inner=1024,\n",
        "            activation_function='gelu',\n",
        "            resid_pdrop=dropout,\n",
        "            embd_pdrop=dropout,\n",
        "            attn_pdrop=dropout,\n",
        "            scale_attn_weights=True\n",
        "        )\n",
        "\n",
        "        self.feature_embedding = nn.Linear(input_dim, 256)\n",
        "        self.transformer = GPT2Model(self.config)\n",
        "\n",
        "        self.price_head = nn.Sequential(\n",
        "            nn.Linear(256, 128),\n",
        "            nn.ReLU(),\n",
        "            nn.Dropout(dropout),\n",
        "            nn.Linear(128, 64),\n",
        "            nn.ReLU(),\n",
        "            nn.Dropout(dropout),\n",
        "            nn.Linear(64, 1)\n",
        "        )\n",
        "\n",
        "        self.market_head = nn.Sequential(\n",
        "            nn.Linear(256, 64),\n",
        "            nn.ReLU(),\n",
        "            nn.Linear(64, 3)\n",
        "        )\n",
        "\n",
        "        self.elasticity_head = nn.Sequential(\n",
        "            nn.Linear(256, 64),\n",
        "            nn.ReLU(),\n",
        "            nn.Linear(64, 1),\n",
        "            nn.Sigmoid()\n",
        "        )\n",
        "\n",
        "    def forward(self, x):\n",
        "        embedded = self.feature_embedding(x)\n",
        "        transformer_out = self.transformer(inputs_embeds=embedded.unsqueeze(1)).last_hidden_state\n",
        "\n",
        "        price_pred = self.price_head(transformer_out.squeeze(1))\n",
        "        market_pred = self.market_head(transformer_out.squeeze(1))\n",
        "        elasticity_pred = self.elasticity_head(transformer_out.squeeze(1))\n",
        "\n",
        "        return price_pred, market_pred, elasticity_pred"
      ],
      "metadata": {
        "id": "NQlRF8Tsg-qA"
      },
      "execution_count": 4,
      "outputs": []
    },
    {
      "cell_type": "code",
      "source": [
        "def normalize_prices(prices, min_price=1e-8):\n",
        "    \"\"\"Normalize prices to prevent numerical instability\"\"\"\n",
        "    return np.clip(prices, min_price, None)\n"
      ],
      "metadata": {
        "id": "oNQS_1Jpj0vZ"
      },
      "execution_count": 5,
      "outputs": []
    },
    {
      "cell_type": "code",
      "source": [],
      "metadata": {
        "id": "LJ4GwYxXj4Ew"
      },
      "execution_count": 5,
      "outputs": []
    },
    {
      "cell_type": "code",
      "source": [
        "class GenAIPricingStrategy:\n",
        "    def __init__(self):\n",
        "        self.model = None\n",
        "        self.scaler = StandardScaler()\n",
        "        self.label_encoders = {}\n",
        "        self.device = torch.device('cuda' if torch.cuda.is_available() else 'cpu')\n",
        "        self.min_price = 1e-8\n",
        "\n",
        "        train_losses = []\n",
        "        val_losses = []\n",
        "        learning_rates = []\n",
        "\n",
        "        best_val_loss = float('inf')\n",
        "        patience = 5\n",
        "        patience_counter = 0\n",
        "\n",
        "\n",
        "    def preprocess_features(self, df):\n",
        "        processed_df = df.copy()\n",
        "\n",
        "        # Normalize prices first\n",
        "        price_columns = ['price', 'payment_value']\n",
        "        for col in price_columns:\n",
        "            if col in processed_df.columns:\n",
        "                processed_df[col] = normalize_prices(processed_df[col], self.min_price)\n",
        "\n",
        "        # Handle datetime features\n",
        "        datetime_cols = ['order_purchase_timestamp', 'order_approved_at',\n",
        "                         'order_delivered_carrier_date', 'order_delivered_customer_date']\n",
        "\n",
        "        for col in datetime_cols:\n",
        "            if col in processed_df.columns:\n",
        "                processed_df[col] = pd.to_datetime(processed_df[col])\n",
        "                processed_df[f'{col}_hour'] = processed_df[col].dt.hour\n",
        "                processed_df[f'{col}_day'] = processed_df[col].dt.day\n",
        "                processed_df[f'{col}_month'] = processed_df[col].dt.month\n",
        "\n",
        "        # Create basic features with numerical stability\n",
        "        processed_df['product_volume'] = (\n",
        "            processed_df['product_length_cm'].clip(lower=0.1) *\n",
        "            processed_df['product_height_cm'].clip(lower=0.1) *\n",
        "            processed_df['product_width_cm'].clip(lower=0.1)\n",
        "        )\n",
        "\n",
        "        # Market features\n",
        "        processed_df['market_density'] = processed_df.groupby('product_category_name')['seller_id'].transform('nunique')\n",
        "        processed_df['category_demand'] = processed_df.groupby('product_category_name')['order_id'].transform('count')\n",
        "\n",
        "        # Price features with numerical stability\n",
        "        processed_df['price_per_weight'] = (\n",
        "            processed_df['price'] / processed_df['product_weight_g'].clip(lower=0.1)\n",
        "        ).clip(lower=self.min_price)\n",
        "\n",
        "        processed_df['price_per_volume'] = (\n",
        "            processed_df['price'] / processed_df['product_volume'].clip(lower=0.1)\n",
        "        ).clip(lower=self.min_price)\n",
        "\n",
        "        # Log transform price-related features\n",
        "        price_related_cols = ['price', 'price_per_weight', 'price_per_volume']\n",
        "        for col in price_related_cols:\n",
        "            if col in processed_df.columns:\n",
        "                processed_df[f'{col}_log'] = np.log1p(processed_df[col])\n",
        "\n",
        "        # Encode categorical variables\n",
        "        cat_columns = ['product_category_name', 'customer_state', 'seller_state']\n",
        "        for col in cat_columns:\n",
        "            if col in processed_df.columns:\n",
        "                le = LabelEncoder()\n",
        "                processed_df[col] = le.fit_transform(processed_df[col].astype(str))\n",
        "                self.label_encoders[col] = le\n",
        "\n",
        "        return processed_df\n",
        "\n",
        "    def prepare_features(self, df):\n",
        "        feature_columns = [\n",
        "            'payment_sequential', 'payment_installments', 'product_weight_g',\n",
        "            'price_per_weight_log', 'price_per_volume_log', 'category_demand',\n",
        "            'market_density', 'product_photos_qty', 'product_volume',\n",
        "            'product_category_name'\n",
        "        ]\n",
        "\n",
        "        X = df[feature_columns].values\n",
        "        # Handle any remaining infinite or NaN values\n",
        "        X = np.nan_to_num(X, nan=0.0, posinf=1e6, neginf=-1e6)\n",
        "        X = self.scaler.fit_transform(X)\n",
        "        return X\n",
        "\n",
        "    def train(self, features, targets, epochs=30, batch_size=32):\n",
        "        train_losses = []\n",
        "        val_losses = []\n",
        "        learning_rates = []\n",
        "\n",
        "        # Prepare targets\n",
        "        targets = normalize_prices(targets)\n",
        "        targets = np.log1p(targets)  # Log transform targets\n",
        "\n",
        "        # Split data\n",
        "        X_train, X_val, y_train, y_val = train_test_split(\n",
        "            features, targets, test_size=0.2, random_state=42\n",
        "        )\n",
        "\n",
        "        # Create datasets\n",
        "        train_dataset = PricingDataset(X_train, y_train)\n",
        "        val_dataset = PricingDataset(X_val, y_val)\n",
        "\n",
        "        # Create dataloaders\n",
        "        train_loader = DataLoader(train_dataset, batch_size=batch_size, shuffle=True)\n",
        "        val_loader = DataLoader(val_dataset, batch_size=batch_size)\n",
        "\n",
        "        # Initialize model\n",
        "        self.model = GenAIPricingTransformer(input_dim=features.shape[1]).to(self.device)\n",
        "\n",
        "        # Loss and optimizer\n",
        "        criterion = nn.MSELoss()\n",
        "        optimizer = torch.optim.AdamW(self.model.parameters(), lr=0.001, weight_decay=0.01)\n",
        "\n",
        "        # Learning rate scheduler\n",
        "        scheduler = torch.optim.lr_scheduler.ReduceLROnPlateau(\n",
        "            optimizer, mode='min', factor=0.5, patience=3, verbose=True\n",
        "        )\n",
        "\n",
        "        # Gradient clipping value\n",
        "        max_grad_norm = 1.0\n",
        "\n",
        "        best_val_loss = float('inf')\n",
        "        patience = 5\n",
        "        patience_counter = 0\n",
        "\n",
        "        for epoch in range(epochs):\n",
        "            self.model.train()\n",
        "            train_loss = 0\n",
        "\n",
        "            for batch_features, batch_targets in train_loader:\n",
        "                batch_features = batch_features.to(self.device)\n",
        "                batch_targets = batch_targets.to(self.device)\n",
        "\n",
        "                optimizer.zero_grad()\n",
        "\n",
        "                try:\n",
        "                    price_pred, _, _ = self.model(batch_features)\n",
        "                    loss = criterion(price_pred, batch_targets)\n",
        "\n",
        "                    if not torch.isfinite(loss):\n",
        "                        print(f\"Warning: Non-finite loss detected: {loss.item()}\")\n",
        "                        continue\n",
        "\n",
        "                    loss.backward()\n",
        "                    torch.nn.utils.clip_grad_norm_(self.model.parameters(), max_grad_norm)\n",
        "                    optimizer.step()\n",
        "                    train_loss += loss.item()\n",
        "\n",
        "                except RuntimeError as e:\n",
        "                    print(f\"Error in batch: {e}\")\n",
        "                    continue\n",
        "\n",
        "            # Validation\n",
        "            self.model.eval()\n",
        "            val_loss = 0\n",
        "\n",
        "            with torch.no_grad():\n",
        "                for batch_features, batch_targets in val_loader:\n",
        "                    batch_features = batch_features.to(self.device)\n",
        "                    batch_targets = batch_targets.to(self.device)\n",
        "\n",
        "                    price_pred, _, _ = self.model(batch_features)\n",
        "                    batch_loss = criterion(price_pred, batch_targets)\n",
        "\n",
        "                    if torch.isfinite(batch_loss):\n",
        "                        val_loss += batch_loss.item()\n",
        "\n",
        "            avg_train_loss = train_loss / len(train_loader)\n",
        "            avg_val_loss = val_loss / len(val_loader)\n",
        "\n",
        "            train_losses.append(avg_train_loss)\n",
        "            val_losses.append(avg_val_loss)\n",
        "            learning_rates.append(optimizer.param_groups[0][\"lr\"])\n",
        "\n",
        "            # Learning rate scheduling\n",
        "            scheduler.step(avg_val_loss)\n",
        "\n",
        "            # Early stopping check\n",
        "            if avg_val_loss < best_val_loss:\n",
        "                best_val_loss = avg_val_loss\n",
        "                patience_counter = 0\n",
        "                torch.save(self.model.state_dict(), 'best_model.pth')\n",
        "            else:\n",
        "                patience_counter += 1\n",
        "\n",
        "            if patience_counter >= patience:\n",
        "                print(\"Early stopping triggered\")\n",
        "                break\n",
        "\n",
        "            if (epoch + 1) % 5 == 0:\n",
        "                print(f'Epoch [{epoch+1}/{epochs}], '\n",
        "                      f'Train Loss: {avg_train_loss:.4f}, '\n",
        "                      f'Val Loss: {avg_val_loss:.4f}, '\n",
        "                      f'LR: {optimizer.param_groups[0][\"lr\"]:.6f}')\n",
        "\n",
        "        # Load best model\n",
        "        self.model.load_state_dict(torch.load('best_model.pth'))\n",
        "\n",
        "        return {\n",
        "            'train_losses': train_losses,\n",
        "            'val_losses': val_losses,\n",
        "            'learning_rates': learning_rates\n",
        "        }\n"
      ],
      "metadata": {
        "id": "SVD8eHnGhym-"
      },
      "execution_count": 23,
      "outputs": []
    },
    {
      "cell_type": "code",
      "source": [
        "df = pd.read_csv('df_sampled_olist.csv')\n"
      ],
      "metadata": {
        "id": "xqv0l6H0hyp8"
      },
      "execution_count": 24,
      "outputs": []
    },
    {
      "cell_type": "code",
      "source": [
        "# Cell for training and visualization\n",
        "def plot_training_metrics(training_history):\n",
        "    fig, (ax1, ax2) = plt.subplots(1, 2, figsize=(15, 5))\n",
        "\n",
        "    # Plot losses\n",
        "    ax1.plot(training_history['train_losses'], label='Training Loss', color='blue')\n",
        "    ax1.plot(training_history['val_losses'], label='Validation Loss', color='red')\n",
        "    ax1.set_xlabel('Epoch')\n",
        "    ax1.set_ylabel('Loss')\n",
        "    ax1.set_title('Training and Validation Loss')\n",
        "    ax1.legend()\n",
        "    ax1.grid(True)\n",
        "\n",
        "    # Plot learning rate\n",
        "    ax2.plot(training_history['learning_rates'], color='green')\n",
        "    ax2.set_xlabel('Epoch')\n",
        "    ax2.set_ylabel('Learning Rate')\n",
        "    ax2.set_title('Learning Rate Schedule')\n",
        "    ax2.grid(True)\n",
        "    ax2.set_yscale('log')\n",
        "\n",
        "    plt.tight_layout()\n",
        "    plt.show()\n",
        "\n",
        "    # Print final metrics\n",
        "    print(\"\\nFinal Metrics:\")\n",
        "    print(f\"Final Training Loss: {training_history['train_losses'][-1]:.4f}\")\n",
        "    print(f\"Final Validation Loss: {training_history['val_losses'][-1]:.4f}\")\n",
        "    print(f\"Best Validation Loss: {min(training_history['val_losses']):.4f}\")\n",
        "\n",
        "    # Calculate loss reduction\n",
        "    initial_loss = training_history['train_losses'][0]\n",
        "    final_loss = training_history['train_losses'][-1]\n",
        "    loss_reduction = ((initial_loss - final_loss) / initial_loss) * 100\n",
        "    print(f\"\\nLoss Reduction: {loss_reduction:.2f}%\")\n",
        "\n",
        "    return min(training_history['val_losses'])"
      ],
      "metadata": {
        "id": "ptM4t02YpjFz"
      },
      "execution_count": 25,
      "outputs": []
    },
    {
      "cell_type": "code",
      "source": [
        "# Custom batch size and epochs\n",
        "pricing_strategy = GenAIPricingStrategy()\n",
        "\n"
      ],
      "metadata": {
        "id": "U7eDDT3Ehysa"
      },
      "execution_count": 26,
      "outputs": []
    },
    {
      "cell_type": "code",
      "source": [
        "# Preprocess data\n",
        "processed_df = pricing_strategy.preprocess_features(df)\n"
      ],
      "metadata": {
        "id": "jFiE6SHohyu8"
      },
      "execution_count": 27,
      "outputs": []
    },
    {
      "cell_type": "code",
      "source": [
        "# Prepare features and targets\n",
        "X = pricing_strategy.prepare_features(processed_df)\n",
        "y = processed_df['price'].values"
      ],
      "metadata": {
        "id": "G8QkY5orhyx5"
      },
      "execution_count": 28,
      "outputs": []
    },
    {
      "cell_type": "code",
      "source": [
        "# Train model and get history\n",
        "training_history = pricing_strategy.train(X, y, epochs=30, batch_size=64)\n"
      ],
      "metadata": {
        "colab": {
          "base_uri": "https://localhost:8080/"
        },
        "id": "hNzv-eXSiWHG",
        "outputId": "30c8953a-0634-4dc5-9a76-d4ae0d5e9409"
      },
      "execution_count": 29,
      "outputs": [
        {
          "output_type": "stream",
          "name": "stdout",
          "text": [
            "Epoch [5/30], Train Loss: 0.2178, Val Loss: 0.1358, LR: 0.001000\n",
            "Epoch [10/30], Train Loss: 0.1473, Val Loss: 0.0761, LR: 0.000500\n",
            "Epoch [15/30], Train Loss: 0.1201, Val Loss: 0.0508, LR: 0.000500\n",
            "Epoch [20/30], Train Loss: 0.1025, Val Loss: 0.0386, LR: 0.000500\n",
            "Early stopping triggered\n"
          ]
        }
      ]
    },
    {
      "cell_type": "code",
      "source": [
        "# Plot training metrics\n",
        "best_val_loss = plot_training_metrics(training_history)\n"
      ],
      "metadata": {
        "colab": {
          "base_uri": "https://localhost:8080/",
          "height": 345
        },
        "id": "lTJNCTfWp3gx",
        "outputId": "e7dcd74c-0f87-439e-ba35-edd9d1bc9b72"
      },
      "execution_count": 30,
      "outputs": [
        {
          "output_type": "display_data",
          "data": {
            "text/plain": [
              "<Figure size 1500x500 with 2 Axes>"
            ],
            "image/png": "[encoded data removed]"
          },
          "metadata": {}
        },
        {
          "output_type": "stream",
          "name": "stdout",
          "text": [
            "\n",
            "Final Metrics:\n",
            "Final Training Loss: 0.0858\n",
            "Final Validation Loss: 0.0416\n",
            "Best Validation Loss: 0.0350\n",
            "\n",
            "Loss Reduction: 88.17%\n"
          ]
        }
      ]
    },
    {
      "cell_type": "code",
      "source": [
        "# Additional visualization: Loss Distribution\n",
        "def plot_loss_distribution(training_history):\n",
        "    plt.figure(figsize=(10, 5))\n",
        "\n",
        "    # Create loss distribution plot\n",
        "    plt.hist(training_history['train_losses'], bins=30, alpha=0.5, label='Training Loss', color='blue')\n",
        "    plt.hist(training_history['val_losses'], bins=30, alpha=0.5, label='Validation Loss', color='red')\n",
        "\n",
        "    plt.xlabel('Loss Value')\n",
        "    plt.ylabel('Frequency')\n",
        "    plt.title('Distribution of Training and Validation Losses')\n",
        "    plt.legend()\n",
        "    plt.grid(True)\n",
        "\n",
        "    plt.tight_layout()\n",
        "    plt.show()\n",
        "\n",
        "# Plot loss distribution\n",
        "plot_loss_distribution(training_history)\n"
      ],
      "metadata": {
        "colab": {
          "base_uri": "https://localhost:8080/",
          "height": 328
        },
        "id": "2ouI-Gnpp_Q5",
        "outputId": "655aa109-c77f-4287-aeca-74900bca1da2"
      },
      "execution_count": 31,
      "outputs": [
        {
          "output_type": "display_data",
          "data": {
            "text/plain": [
              "<Figure size 1000x500 with 1 Axes>"
            ],
            "image/png": "[encoded data removed]"
          },
          "metadata": {}
        }
      ]
    },
    {
      "cell_type": "code",
      "source": [
        "# Create a summary of the training process\n",
        "def print_training_summary(training_history):\n",
        "    print(\"\\nTraining Summary:\")\n",
        "    print(\"-\" * 50)\n",
        "    print(f\"Number of epochs trained: {len(training_history['train_losses'])}\")\n",
        "    print(f\"Initial training loss: {training_history['train_losses'][0]:.4f}\")\n",
        "    print(f\"Final training loss: {training_history['train_losses'][-1]:.4f}\")\n",
        "    print(f\"Best validation loss: {min(training_history['val_losses']):.4f}\")\n",
        "    print(f\"Initial learning rate: {training_history['learning_rates'][0]:.6f}\")\n",
        "    print(f\"Final learning rate: {training_history['learning_rates'][-1]:.6f}\")\n",
        "\n",
        "    # Calculate convergence metrics\n",
        "    converged_epoch = training_history['val_losses'].index(min(training_history['val_losses']))\n",
        "    print(f\"Best model achieved at epoch: {converged_epoch + 1}\")\n",
        "\n",
        "    # Calculate stability metrics\n",
        "    train_loss_std = np.std(training_history['train_losses'])\n",
        "    val_loss_std = np.std(training_history['val_losses'])\n",
        "    print(f\"\\nTraining Stability Metrics:\")\n",
        "    print(f\"Training loss standard deviation: {train_loss_std:.4f}\")\n",
        "    print(f\"Validation loss standard deviation: {val_loss_std:.4f}\")\n"
      ],
      "metadata": {
        "id": "_LWeKAK2qDZw"
      },
      "execution_count": 32,
      "outputs": []
    },
    {
      "cell_type": "code",
      "source": [
        "# Print training summary\n",
        "print_training_summary(training_history)"
      ],
      "metadata": {
        "colab": {
          "base_uri": "https://localhost:8080/"
        },
        "id": "2wWN8EfrqEaA",
        "outputId": "4626c4e8-b3b2-492e-b526-77eeeddcd326"
      },
      "execution_count": 33,
      "outputs": [
        {
          "output_type": "stream",
          "name": "stdout",
          "text": [
            "\n",
            "Training Summary:\n",
            "--------------------------------------------------\n",
            "Number of epochs trained: 24\n",
            "Initial training loss: 0.7253\n",
            "Final training loss: 0.0858\n",
            "Best validation loss: 0.0350\n",
            "Initial learning rate: 0.001000\n",
            "Final learning rate: 0.000250\n",
            "Best model achieved at epoch: 19\n",
            "\n",
            "Training Stability Metrics:\n",
            "Training loss standard deviation: 0.1378\n",
            "Validation loss standard deviation: 0.0805\n"
          ]
        }
      ]
    },
    {
      "cell_type": "code",
      "source": [
        "# Get predictions for a sample product\n",
        "sample_features = X[0:1]  # Example: first product in dataset\n",
        "# Convert features to Tensor and move to the appropriate device\n",
        "sample_features_tensor = torch.tensor(sample_features, dtype=torch.float32).to(pricing_strategy.device)\n",
        "\n",
        "recommendations = pricing_strategy.model(sample_features_tensor)"
      ],
      "metadata": {
        "id": "KuBiNnEUiWJh"
      },
      "execution_count": 37,
      "outputs": []
    },
    {
      "cell_type": "code",
      "source": [
        "print(type(recommendations))\n",
        "print(recommendations)\n"
      ],
      "metadata": {
        "colab": {
          "base_uri": "https://localhost:8080/"
        },
        "id": "Gp6wFt48wtOV",
        "outputId": "c5256040-7919-4df4-8cc1-64d2efd3bbcd"
      },
      "execution_count": 39,
      "outputs": [
        {
          "output_type": "stream",
          "name": "stdout",
          "text": [
            "<class 'tuple'>\n",
            "(tensor([[4.1283]], grad_fn=<AddmmBackward0>), tensor([[-0.0615,  0.0810, -0.3971]], grad_fn=<AddmmBackward0>), tensor([[0.4795]], grad_fn=<SigmoidBackward0>))\n"
          ]
        }
      ]
    },
    {
      "cell_type": "code",
      "source": [
        "# Assuming recommendations is a tuple of tensors\n",
        "market_condition_tensor = recommendations[0]\n",
        "price_elasticity_tensor = recommendations[1]\n",
        "recommended_prices_tensor = recommendations[2]  # This is a tensor\n",
        "\n",
        "# Handle market_condition tensor\n",
        "if market_condition_tensor.numel() == 1:\n",
        "    market_condition = market_condition_tensor.item()\n",
        "else:\n",
        "    market_condition = market_condition_tensor.mean().item()\n",
        "\n",
        "# Handle price_elasticity tensor\n",
        "if price_elasticity_tensor.numel() == 1:\n",
        "    price_elasticity = price_elasticity_tensor.item()\n",
        "else:\n",
        "    price_elasticity = price_elasticity_tensor.mean().item()\n",
        "\n",
        "# Pricing Strategy Recommendations\n",
        "print(\"\\nPricing Strategy Recommendations:\")\n",
        "print(f\"Market Condition: {market_condition:.2f}\")\n",
        "print(f\"Price Elasticity: {price_elasticity:.2f}\")\n",
        "\n",
        "# Handle recommended prices tensor (assuming it's a 1D tensor)\n",
        "print(\"\\nRecommended Prices:\")\n",
        "strategies = ['Strategy A', 'Strategy B', 'Strategy C']  # Modify this list based on your strategies\n",
        "for strategy, price in zip(strategies, recommended_prices_tensor):\n",
        "    print(f\"{strategy}: ${price.item():.2f}\")\n"
      ],
      "metadata": {
        "colab": {
          "base_uri": "https://localhost:8080/"
        },
        "id": "Xa8zuPXWiWMw",
        "outputId": "5e689dc9-dd43-4895-9008-0ae5c1e02349"
      },
      "execution_count": 43,
      "outputs": [
        {
          "output_type": "stream",
          "name": "stdout",
          "text": [
            "\n",
            "Pricing Strategy Recommendations:\n",
            "Market Condition: 4.13\n",
            "Price Elasticity: -0.13\n",
            "\n",
            "Recommended Prices:\n",
            "Strategy A: $0.48\n"
          ]
        }
      ]
    },
    {
      "cell_type": "code",
      "source": [
        "X[0]"
      ],
      "metadata": {
        "colab": {
          "base_uri": "https://localhost:8080/"
        },
        "id": "jPQ_iYOlxoYg",
        "outputId": "797cd88d-6c1d-461b-8417-859221fe0f44"
      },
      "execution_count": 45,
      "outputs": [
        {
          "output_type": "execute_result",
          "data": {
            "text/plain": [
              "array([-0.14129534,  0.09178036, -0.10479113, -0.63878242, -0.51446912,\n",
              "       -0.41936586, -0.38826643, -0.09822045,  0.31956279,  0.14066501])"
            ]
          },
          "metadata": {},
          "execution_count": 45
        }
      ]
    },
    {
      "cell_type": "code",
      "source": [
        "print(recommendations)\n"
      ],
      "metadata": {
        "colab": {
          "base_uri": "https://localhost:8080/"
        },
        "id": "3b-j1tM2y_Ir",
        "outputId": "8eae4689-2f6c-416f-f788-309f7462b063"
      },
      "execution_count": 47,
      "outputs": [
        {
          "output_type": "stream",
          "name": "stdout",
          "text": [
            "(tensor([[4.1283]], grad_fn=<AddmmBackward0>), tensor([[-0.0615,  0.0810, -0.3971]], grad_fn=<AddmmBackward0>), tensor([[0.4795]], grad_fn=<SigmoidBackward0>))\n"
          ]
        }
      ]
    },
    {
      "cell_type": "code",
      "source": [],
      "metadata": {
        "id": "D7qV7Qd1zz6r"
      },
      "execution_count": null,
      "outputs": []
    },
    {
      "cell_type": "code",
      "source": [
        "recommendations = (market_condition_tensor, price_elasticity_tensor, recommended_strategies_dict)\n"
      ],
      "metadata": {
        "colab": {
          "base_uri": "https://localhost:8080/",
          "height": 193
        },
        "id": "Oo8K6VaDzI2d",
        "outputId": "f19436a9-86a2-4866-aaf4-05ef2441efc1"
      },
      "execution_count": 48,
      "outputs": [
        {
          "output_type": "error",
          "ename": "NameError",
          "evalue": "name 'recommended_strategies_dict' is not defined",
          "traceback": [
            "\u001b[0;31m---------------------------------------------------------------------------\u001b[0m",
            "\u001b[0;31mNameError\u001b[0m                                 Traceback (most recent call last)",
            "\u001b[0;32m<ipython-input-48-ef4699fbe3f5>\u001b[0m in \u001b[0;36m<cell line: 1>\u001b[0;34m()\u001b[0m\n\u001b[0;32m----> 1\u001b[0;31m \u001b[0mrecommendations\u001b[0m \u001b[0;34m=\u001b[0m \u001b[0;34m(\u001b[0m\u001b[0mmarket_condition_tensor\u001b[0m\u001b[0;34m,\u001b[0m \u001b[0mprice_elasticity_tensor\u001b[0m\u001b[0;34m,\u001b[0m \u001b[0mrecommended_strategies_dict\u001b[0m\u001b[0;34m)\u001b[0m\u001b[0;34m\u001b[0m\u001b[0;34m\u001b[0m\u001b[0m\n\u001b[0m",
            "\u001b[0;31mNameError\u001b[0m: name 'recommended_strategies_dict' is not defined"
          ]
        }
      ]
    },
    {
      "cell_type": "code",
      "source": [
        "# Create visualization of pricing strategies\n",
        "strategies = list(recommendations['recommended_strategies'].keys())\n",
        "prices = list(recommendations['recommended_strategies'].values())\n",
        "\n",
        "plt.figure(figsize=(12, 6))\n",
        "sns.barplot(x=strategies, y=prices)\n",
        "plt.title('Pricing Strategy Recommendations')\n",
        "plt.xticks(rotation=45)\n",
        "plt.ylabel('Price ($)')\n",
        "plt.tight_layout()\n",
        "plt.show()"
      ],
      "metadata": {
        "colab": {
          "base_uri": "https://localhost:8080/",
          "height": 263
        },
        "id": "wejFvC1Hil-e",
        "outputId": "149f85e1-01fb-40e3-9f67-363f20cbc379"
      },
      "execution_count": 46,
      "outputs": [
        {
          "output_type": "error",
          "ename": "TypeError",
          "evalue": "tuple indices must be integers or slices, not str",
          "traceback": [
            "\u001b[0;31m---------------------------------------------------------------------------\u001b[0m",
            "\u001b[0;31mTypeError\u001b[0m                                 Traceback (most recent call last)",
            "\u001b[0;32m<ipython-input-46-ed61d0eaee81>\u001b[0m in \u001b[0;36m<cell line: 2>\u001b[0;34m()\u001b[0m\n\u001b[1;32m      1\u001b[0m \u001b[0;31m# Create visualization of pricing strategies\u001b[0m\u001b[0;34m\u001b[0m\u001b[0;34m\u001b[0m\u001b[0m\n\u001b[0;32m----> 2\u001b[0;31m \u001b[0mstrategies\u001b[0m \u001b[0;34m=\u001b[0m \u001b[0mlist\u001b[0m\u001b[0;34m(\u001b[0m\u001b[0mrecommendations\u001b[0m\u001b[0;34m[\u001b[0m\u001b[0;34m'recommended_strategies'\u001b[0m\u001b[0;34m]\u001b[0m\u001b[0;34m.\u001b[0m\u001b[0mkeys\u001b[0m\u001b[0;34m(\u001b[0m\u001b[0;34m)\u001b[0m\u001b[0;34m)\u001b[0m\u001b[0;34m\u001b[0m\u001b[0;34m\u001b[0m\u001b[0m\n\u001b[0m\u001b[1;32m      3\u001b[0m \u001b[0mprices\u001b[0m \u001b[0;34m=\u001b[0m \u001b[0mlist\u001b[0m\u001b[0;34m(\u001b[0m\u001b[0mrecommendations\u001b[0m\u001b[0;34m[\u001b[0m\u001b[0;34m'recommended_strategies'\u001b[0m\u001b[0;34m]\u001b[0m\u001b[0;34m.\u001b[0m\u001b[0mvalues\u001b[0m\u001b[0;34m(\u001b[0m\u001b[0;34m)\u001b[0m\u001b[0;34m)\u001b[0m\u001b[0;34m\u001b[0m\u001b[0;34m\u001b[0m\u001b[0m\n\u001b[1;32m      4\u001b[0m \u001b[0;34m\u001b[0m\u001b[0m\n\u001b[1;32m      5\u001b[0m \u001b[0mplt\u001b[0m\u001b[0;34m.\u001b[0m\u001b[0mfigure\u001b[0m\u001b[0;34m(\u001b[0m\u001b[0mfigsize\u001b[0m\u001b[0;34m=\u001b[0m\u001b[0;34m(\u001b[0m\u001b[0;36m12\u001b[0m\u001b[0;34m,\u001b[0m \u001b[0;36m6\u001b[0m\u001b[0;34m)\u001b[0m\u001b[0;34m)\u001b[0m\u001b[0;34m\u001b[0m\u001b[0;34m\u001b[0m\u001b[0m\n",
            "\u001b[0;31mTypeError\u001b[0m: tuple indices must be integers or slices, not str"
          ]
        }
      ]
    },
    {
      "cell_type": "code",
      "source": [],
      "metadata": {
        "id": "CWpgVz4zimBb"
      },
      "execution_count": 10,
      "outputs": []
    },
    {
      "cell_type": "code",
      "source": [],
      "metadata": {
        "id": "H0l24_ipimD3"
      },
      "execution_count": 10,
      "outputs": []
    }
  ]
}